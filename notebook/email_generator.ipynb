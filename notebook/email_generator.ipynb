{
 "cells": [
  {
   "cell_type": "code",
   "execution_count": null,
   "id": "0cac8750-f2b0-4ebd-9224-eff012dbb3f5",
   "metadata": {},
   "outputs": [
    {
     "ename": "",
     "evalue": "",
     "output_type": "error",
     "traceback": [
      "\u001b[1;31mRunning cells with 'myenv (Python 3.10.10)' requires the ipykernel package.\n",
      "\u001b[1;31mRun the following command to install 'ipykernel' into the Python environment. \n",
      "\u001b[1;31mCommand: 'd:/ml/git/cold_email_generator_using_llama_and_chromadb/myenv/Scripts/python.exe -m pip install ipykernel -U --force-reinstall'"
     ]
    }
   ],
   "source": [
    "from langchain_groq import ChatGroq\n",
    "import uuid\n",
    "from dotenv import load_dotenv\n",
    "import os\n",
    "\n",
    "load_dotenv()"
   ]
  },
  {
   "cell_type": "code",
   "execution_count": 19,
   "id": "ff592ea4-c754-4c9f-a34f-ea6830bdfd27",
   "metadata": {},
   "outputs": [],
   "source": [
    "llm = ChatGroq(\n",
    "    groq_api_key = os.getenv('GROQ_API_KEY'),\n",
    "    model = \"llama-3.1-70b-versatile\",\n",
    "    temperature = 0 ,\n",
    ")"
   ]
  },
  {
   "cell_type": "code",
   "execution_count": 20,
   "id": "77257aeb-33b5-44c3-9c21-62842c78e62f",
   "metadata": {},
   "outputs": [
    {
     "name": "stdout",
     "output_type": "stream",
     "text": [
      "\n",
      "\n",
      "\n",
      "\n",
      "\n",
      "\n",
      "\n",
      "\n",
      "\n",
      "\n",
      "\n",
      "\n",
      "\n",
      "\n",
      "\n",
      "\n",
      "  Software Engineer - Python\n",
      "  \n",
      "\n",
      "\n",
      "\n",
      "\n",
      "\n",
      "\n",
      "\n",
      "\n",
      "\n",
      "Logo\n",
      "\n",
      "\n",
      "\n",
      "\n",
      "\n",
      "\n",
      "\n",
      "\n",
      "\n",
      "\n",
      "\n",
      "\n",
      "\n",
      "\n",
      "\n",
      "Why Michelin\n",
      "\n",
      "\n",
      "\n",
      "Return\n",
      "\n",
      "\n",
      "Inspire Motion for Life\n",
      "\n",
      "\n",
      "Your professional journey\n",
      "\n",
      "\n",
      "\n",
      "\n",
      "\n",
      "About us\n",
      "\n",
      "\n",
      "\n",
      "Return\n",
      "\n",
      "\n",
      "What inspires us?\n",
      "\n",
      "\n",
      "Michelin in the world\n",
      "\n",
      "\n",
      "Students\n",
      "\n",
      "\n",
      "Meet our recruiters\n",
      "\n",
      "\n",
      "\n",
      "\n",
      "Michelin in India\n",
      "\n",
      "\n",
      "\n",
      "\n",
      "\n",
      "\n",
      "\n",
      "\n",
      "\n",
      "\n",
      "\n",
      "Software Engineer - Python\n",
      "\n",
      "Offer published on 27 08 2024\n",
      "\n",
      "Location :\n",
      "Pune, India\n",
      "            \n",
      "Sector :\n",
      "IS&Digital\n",
      "            \n",
      "Contract type :\n",
      "Regular\n",
      "            \n",
      "\n",
      "Apply\n",
      "\n",
      "\n",
      "\n",
      "\n",
      "Open positions\n",
      "\n",
      "Software Engineer - Python- - - - - - - - - - - -Key Expected Skills Python languagePython libraryORMMulti process architectureVersion control tool as GitExperience on building from scratch Python applicationSQLOptional skillsDjango FrameworkExperience on front end technology (Angular)SQL (Postgre or Oracle)Docker and KubernetesJava back end SpringData experienceAzure CloudMicro servicesAPI DevSoft Skills MandatoryGood English communication (worldwide user and part of the team in France) Good level of autonomy (small team (2 or 3) => Lot of responsibility for all team member.\n",
      "\n",
      "\n",
      "\n",
      "Apply\n",
      "\n",
      "\n",
      "\n",
      "\n",
      "Home Michelin Career\n",
      "\n",
      "Job Offer Result List\n",
      "\n",
      "\n",
      "Software Engineer - Python\n",
      "\n",
      "\n",
      "\n",
      "\n",
      "\n",
      "\n",
      "\n",
      "\n",
      "\n",
      "\n",
      "Useful Links\n",
      "\n",
      "\n",
      "\n",
      "Michelin in India\n",
      "\n",
      "\n",
      "Students\n",
      "\n",
      "\n",
      "Our job offers\n",
      "\n",
      "\n",
      "Our recruiters\n",
      "\n",
      "\n",
      "\n",
      "\n",
      "\n",
      "\n",
      "Twitter\n",
      "\n",
      "\n",
      "LinkedIn\n",
      "\n",
      "\n",
      "Facebook\n",
      "\n",
      "\n",
      "Youtube\n",
      "\n",
      "\n",
      "Instagram\n",
      "\n",
      "\n",
      "\n",
      "\n",
      "\n",
      "Copyright © 2023 MICHELIN - All rights reserved\n",
      "\n",
      "\n",
      "Terms of Use\n",
      "\n",
      "\n",
      "Cookie Policy\n",
      "\n",
      "\n",
      "Privacy Policy\n",
      "\n",
      "\n",
      "Public Notice\n",
      "\n",
      "\n",
      "\n",
      "\n",
      "\n",
      "\n",
      "\n",
      "\n",
      "\n"
     ]
    }
   ],
   "source": [
    "from langchain_community.document_loaders import WebBaseLoader\n",
    "\n",
    "loader = WebBaseLoader( 'https://jobs.michelin.in/job-offer-result-list/software-engineer-python')\n",
    "page_data = loader.load().pop().page_content\n",
    "print(page_data)"
   ]
  },
  {
   "cell_type": "code",
   "execution_count": 26,
   "id": "76a5dd94-6ff2-4109-bb21-db652eb8584b",
   "metadata": {},
   "outputs": [
    {
     "name": "stdout",
     "output_type": "stream",
     "text": [
      "```json\n",
      "{\n",
      "  \"role\": \"Software Engineer - Python\",\n",
      "  \"experience\": \"\",\n",
      "  \"skills\": [\n",
      "    \"Python language\",\n",
      "    \"Python library\",\n",
      "    \"ORM\",\n",
      "    \"Multi process architecture\",\n",
      "    \"Version control tool as Git\",\n",
      "    \"Experience on building from scratch Python application\",\n",
      "    \"SQL\"\n",
      "  ],\n",
      "  \"description\": \"Good English communication (worldwide user and part of the team in France) Good level of autonomy (small team (2 or 3) => Lot of responsibility for all team member.\"\n",
      "}\n",
      "```\n"
     ]
    }
   ],
   "source": [
    "from langchain_core.prompts import PromptTemplate\n",
    "\n",
    "prompt_extract = PromptTemplate.from_template(\n",
    "    \"\"\"\n",
    "    ### Scapped from website :\n",
    "    {page_data}\n",
    "    ### Instruction :\n",
    "    The Scrapped data is from the career's page of a website.\n",
    "    Your job is to extract the job postings and return them in  JSON format containing the followings keys :\n",
    "    'role' , 'experience' , 'skills' and description'.\n",
    "    Only return th e valid JSON.\n",
    "    ### valid JSON (NO PREAMBLE And AVOID Optional Skills) :\n",
    "    \"\"\"\n",
    ")\n",
    "\n",
    "chain_extract = prompt_extract | llm\n",
    "\n",
    "res = chain_extract.invoke(input = {'page_data' : page_data})\n",
    "\n",
    "print(res.content)"
   ]
  },
  {
   "cell_type": "code",
   "execution_count": 27,
   "id": "0510e1a8-60a1-432d-af4a-6bfaa7749aba",
   "metadata": {},
   "outputs": [],
   "source": [
    "from langchain_core.output_parsers import JsonOutputParser\n",
    "\n",
    "json_parser = JsonOutputParser()\n",
    "json_res = json_parser.parse(res.content)"
   ]
  },
  {
   "cell_type": "code",
   "execution_count": 28,
   "id": "759298ce-4160-41f8-b219-57f8b2b512c5",
   "metadata": {},
   "outputs": [
    {
     "data": {
      "text/plain": [
       "dict"
      ]
     },
     "execution_count": 28,
     "metadata": {},
     "output_type": "execute_result"
    }
   ],
   "source": [
    "type(json_res) "
   ]
  },
  {
   "cell_type": "markdown",
   "id": "6cb183c7-5c2b-4929-bef2-1a23805f0773",
   "metadata": {},
   "source": [
    "## ChromaDb portfolio add"
   ]
  },
  {
   "cell_type": "code",
   "execution_count": 29,
   "id": "f4af1251-3b69-4a10-b366-814846ee1066",
   "metadata": {},
   "outputs": [
    {
     "data": {
      "text/html": [
       "<div>\n",
       "<style scoped>\n",
       "    .dataframe tbody tr th:only-of-type {\n",
       "        vertical-align: middle;\n",
       "    }\n",
       "\n",
       "    .dataframe tbody tr th {\n",
       "        vertical-align: top;\n",
       "    }\n",
       "\n",
       "    .dataframe thead th {\n",
       "        text-align: right;\n",
       "    }\n",
       "</style>\n",
       "<table border=\"1\" class=\"dataframe\">\n",
       "  <thead>\n",
       "    <tr style=\"text-align: right;\">\n",
       "      <th></th>\n",
       "      <th>Techstack</th>\n",
       "      <th>Links</th>\n",
       "    </tr>\n",
       "  </thead>\n",
       "  <tbody>\n",
       "    <tr>\n",
       "      <th>0</th>\n",
       "      <td>React, Node.js, MongoDB</td>\n",
       "      <td>https://example.com/react-portfolio</td>\n",
       "    </tr>\n",
       "    <tr>\n",
       "      <th>1</th>\n",
       "      <td>Angular,.NET, SQL Server</td>\n",
       "      <td>https://example.com/angular-portfolio</td>\n",
       "    </tr>\n",
       "    <tr>\n",
       "      <th>2</th>\n",
       "      <td>Vue.js, Ruby on Rails, PostgreSQL</td>\n",
       "      <td>https://example.com/vue-portfolio</td>\n",
       "    </tr>\n",
       "    <tr>\n",
       "      <th>3</th>\n",
       "      <td>Python, Django, MySQL</td>\n",
       "      <td>https://example.com/python-portfolio</td>\n",
       "    </tr>\n",
       "    <tr>\n",
       "      <th>4</th>\n",
       "      <td>Java, Spring Boot, Oracle</td>\n",
       "      <td>https://example.com/java-portfolio</td>\n",
       "    </tr>\n",
       "  </tbody>\n",
       "</table>\n",
       "</div>"
      ],
      "text/plain": [
       "                           Techstack                                  Links\n",
       "0            React, Node.js, MongoDB    https://example.com/react-portfolio\n",
       "1           Angular,.NET, SQL Server  https://example.com/angular-portfolio\n",
       "2  Vue.js, Ruby on Rails, PostgreSQL      https://example.com/vue-portfolio\n",
       "3              Python, Django, MySQL   https://example.com/python-portfolio\n",
       "4          Java, Spring Boot, Oracle     https://example.com/java-portfolio"
      ]
     },
     "execution_count": 29,
     "metadata": {},
     "output_type": "execute_result"
    }
   ],
   "source": [
    "import pandas as pd\n",
    "\n",
    "df = pd.read_csv('my_portfolio.csv')\n",
    "df.head()"
   ]
  },
  {
   "cell_type": "code",
   "execution_count": 30,
   "id": "9f3c1cdc-3efa-4ca0-8867-1bebd62f324b",
   "metadata": {},
   "outputs": [],
   "source": [
    "import chromadb\n",
    "\n",
    "client = chromadb.PersistentClient('vectorstore')\n",
    "collection = client.get_or_create_collection(name = \"portfolio\")\n",
    "\n",
    "if not collection.count():\n",
    "    for _ , row in df.iterrows():\n",
    "        collection.add(documents = row[\"Techstack\"],\n",
    "                       metadatas = {\"links\" : row[\"Links\"]},\n",
    "                       ids = [str(uuid.uuid4())] )"
   ]
  },
  {
   "cell_type": "markdown",
   "id": "69d4734b-f8b9-4936-80b5-5ea7d335fa0a",
   "metadata": {},
   "source": [
    "## querying DB to extract relevent portfolio"
   ]
  },
  {
   "cell_type": "code",
   "execution_count": 31,
   "id": "50277284-8925-4b1d-b505-8de02042ea23",
   "metadata": {},
   "outputs": [
    {
     "data": {
      "text/plain": [
       "['Python language',\n",
       " 'Python library',\n",
       " 'ORM',\n",
       " 'Multi process architecture',\n",
       " 'Version control tool as Git',\n",
       " 'Experience on building from scratch Python application',\n",
       " 'SQL']"
      ]
     },
     "execution_count": 31,
     "metadata": {},
     "output_type": "execute_result"
    }
   ],
   "source": [
    "job = json_res\n",
    "job['skills']"
   ]
  },
  {
   "cell_type": "code",
   "execution_count": 32,
   "id": "c6b8726c-94b3-4fbd-b273-fd11ec800330",
   "metadata": {},
   "outputs": [
    {
     "data": {
      "text/plain": [
       "[[{'links': 'https://example.com/ml-python-portfolio'},\n",
       "  {'links': 'https://example.com/python-portfolio'}],\n",
       " [{'links': 'https://example.com/ml-python-portfolio'},\n",
       "  {'links': 'https://example.com/python-portfolio'}],\n",
       " [{'links': 'https://example.com/java-portfolio'},\n",
       "  {'links': 'https://example.com/ios-ar-portfolio'}],\n",
       " [{'links': 'https://example.com/ml-python-portfolio'},\n",
       "  {'links': 'https://example.com/devops-portfolio'}],\n",
       " [{'links': 'https://example.com/devops-portfolio'},\n",
       "  {'links': 'https://example.com/kotlin-backend-portfolio'}],\n",
       " [{'links': 'https://example.com/python-portfolio'},\n",
       "  {'links': 'https://example.com/ml-python-portfolio'}],\n",
       " [{'links': 'https://example.com/magento-portfolio'},\n",
       "  {'links': 'https://example.com/wordpress-portfolio'}]]"
      ]
     },
     "execution_count": 32,
     "metadata": {},
     "output_type": "execute_result"
    }
   ],
   "source": [
    "links = collection.query(\n",
    "    query_texts = job['skills'],\n",
    "    n_results =2).get('metadatas', [])\n",
    "links"
   ]
  },
  {
   "cell_type": "markdown",
   "id": "fc6d66f6-2b48-4128-818d-297634a7a3e9",
   "metadata": {},
   "source": [
    "## Cold Email Generator (+prompt)"
   ]
  },
  {
   "cell_type": "code",
   "execution_count": 33,
   "id": "b270bedc-62e9-4d3b-935e-cdf8d1ca1b75",
   "metadata": {},
   "outputs": [
    {
     "name": "stdout",
     "output_type": "stream",
     "text": [
      "Subject: Expert Python Development Services for Your Business Needs\n",
      "\n",
      "Dear Hiring Manager,\n",
      "\n",
      "I came across your job posting for a Software Engineer - Python, and I'm excited to introduce you to TechForge, an AI and Software Consulting company dedicated to delivering tailored solutions that drive business growth through automation.\n",
      "\n",
      "Our team of expert Python developers has extensive experience in building scalable, efficient, and secure applications from scratch. We're well-versed in Python language, libraries, ORM, multi-process architecture, and version control tools like Git. Our expertise in SQL and experience with building Python applications align perfectly with your requirements.\n",
      "\n",
      "At TechForge, we've empowered numerous enterprises with our solutions, fostering scalability, process optimization, cost reduction, and heightened overall efficiency. I'd like to highlight a few relevant projects from our portfolio that demonstrate our capabilities:\n",
      "\n",
      "* https://example.com/ml-python-portfolio (Machine Learning with Python)\n",
      "* https://example.com/python-portfolio (Custom Python Application Development)\n",
      "\n",
      "These projects showcase our ability to leverage Python for building robust, data-driven applications that meet the unique needs of our clients.\n",
      "\n",
      "As a small team, we understand the importance of autonomy and responsibility. Our developers are self-motivated, communicative, and comfortable working in a fast-paced environment. We're confident that our team would be a great fit for your organization.\n",
      "\n",
      "If you're looking for a reliable partner to help you build and maintain your Python applications, I'd be happy to schedule a call to discuss how TechForge can support your business goals.\n",
      "\n",
      "Please feel free to reply to this email or give me a call at your convenience.\n",
      "\n",
      "Best regards,\n",
      "\n",
      "Animesh\n",
      "Business Development Executive\n",
      "TechForge\n"
     ]
    }
   ],
   "source": [
    "prompt_email = PromptTemplate.from_template(\n",
    "    \"\"\"\n",
    "    ### JOB DESCRIPTION :\n",
    "    {job_description}\n",
    "\n",
    "    ### INSTRUCTION :\n",
    "    You are Animesh , a business development executive at some service providing company .\n",
    "    Your company(say any name) is an AI and Software Consulting company dedicated to facilitating\n",
    "        the seamless integration of business processes through automated tools. \n",
    "        Over our experience, we have empowered numerous enterprises with tailored solutions, fostering scalability, \n",
    "        process optimization, cost reduction, and heightened overall efficiency. \n",
    "        Your job is to write a cold email to the client regarding the job mentioned above describing the capability of company \n",
    "        in fulfilling their needs.\n",
    "        Also add the most relevant ones from the following links to showcase company's portfolio: {link_list}\n",
    "        Remember you are Mohan, BDE at company. \n",
    "        Do not provide a preamble.\n",
    "        ### EMAIL (NO PREAMBLE with any artificial company name):\n",
    "        \n",
    "        \"\"\"\n",
    ")\n",
    "\n",
    "chain_email = prompt_email | llm \n",
    "res = chain_email.invoke({'job_description' : str(job)  , 'link_list' : links})\n",
    "print(res.content)"
   ]
  },
  {
   "cell_type": "code",
   "execution_count": null,
   "id": "45110906-df7b-43d4-907f-0eb8d39de946",
   "metadata": {},
   "outputs": [],
   "source": []
  }
 ],
 "metadata": {
  "kernelspec": {
   "display_name": "Python 3 (ipykernel)",
   "language": "python",
   "name": "python3"
  },
  "language_info": {
   "codemirror_mode": {
    "name": "ipython",
    "version": 3
   },
   "file_extension": ".py",
   "mimetype": "text/x-python",
   "name": "python",
   "nbconvert_exporter": "python",
   "pygments_lexer": "ipython3",
   "version": "3.10.10"
  }
 },
 "nbformat": 4,
 "nbformat_minor": 5
}
